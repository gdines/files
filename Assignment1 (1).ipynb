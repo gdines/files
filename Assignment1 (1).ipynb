{
 "cells": [
  {
   "cell_type": "markdown",
   "id": "33bc6fd1-af48-439a-a014-8ab284b03e6c",
   "metadata": {},
   "source": [
    "#### Imports and generation of Pandas DataFrame in cells below."
   ]
  },
  {
   "cell_type": "code",
   "execution_count": 2,
   "id": "adbfe6cc-8e6d-4783-858a-9dff3424c221",
   "metadata": {},
   "outputs": [],
   "source": [
    "import numpy as np\n",
    "import pandas as pd\n",
    "import matplotlib.pyplot as plt\n",
    "import seaborn as sb"
   ]
  },
  {
   "cell_type": "code",
   "execution_count": 3,
   "id": "9af30918-f016-47f6-a1d7-3552bcf4e120",
   "metadata": {},
   "outputs": [],
   "source": [
    "year = np.arange(2012,2022,1)\n",
    "quantity = [1.88e9, 2.14e9, 2.37e9, 2.51e9,2.74e9,2.61e9,2.5e9,2.58e9,2.28e9,2.55e9]\n",
    "price = [6.92,4.49,3.71,3.52,3.3,3.31,3.59,3.5,4.64,5.47]\n",
    "PDSI = [-3.06,0.31,2.28,2.9,3.94,2.41,2.4,5.04,-0.62,-1.21]\n",
    "zipped = list(zip(year,quantity,price,PDSI))"
   ]
  },
  {
   "cell_type": "code",
   "execution_count": 4,
   "id": "020e7294-5b7c-42c8-a621-83ac249a6e73",
   "metadata": {},
   "outputs": [],
   "source": [
    "df = pd.DataFrame(zipped, columns = ['Year','Quantity','Price','PDSI'])"
   ]
  },
  {
   "cell_type": "code",
   "execution_count": 5,
   "id": "21f88756-4375-4d15-a843-9c8f779d13d4",
   "metadata": {},
   "outputs": [
    {
     "data": {
      "text/html": [
       "<div>\n",
       "<style scoped>\n",
       "    .dataframe tbody tr th:only-of-type {\n",
       "        vertical-align: middle;\n",
       "    }\n",
       "\n",
       "    .dataframe tbody tr th {\n",
       "        vertical-align: top;\n",
       "    }\n",
       "\n",
       "    .dataframe thead th {\n",
       "        text-align: right;\n",
       "    }\n",
       "</style>\n",
       "<table border=\"1\" class=\"dataframe\">\n",
       "  <thead>\n",
       "    <tr style=\"text-align: right;\">\n",
       "      <th></th>\n",
       "      <th>Year</th>\n",
       "      <th>Quantity</th>\n",
       "      <th>Price</th>\n",
       "      <th>PDSI</th>\n",
       "    </tr>\n",
       "  </thead>\n",
       "  <tbody>\n",
       "    <tr>\n",
       "      <th>0</th>\n",
       "      <td>2012</td>\n",
       "      <td>1.880000e+09</td>\n",
       "      <td>6.92</td>\n",
       "      <td>-3.06</td>\n",
       "    </tr>\n",
       "    <tr>\n",
       "      <th>1</th>\n",
       "      <td>2013</td>\n",
       "      <td>2.140000e+09</td>\n",
       "      <td>4.49</td>\n",
       "      <td>0.31</td>\n",
       "    </tr>\n",
       "    <tr>\n",
       "      <th>2</th>\n",
       "      <td>2014</td>\n",
       "      <td>2.370000e+09</td>\n",
       "      <td>3.71</td>\n",
       "      <td>2.28</td>\n",
       "    </tr>\n",
       "    <tr>\n",
       "      <th>3</th>\n",
       "      <td>2015</td>\n",
       "      <td>2.510000e+09</td>\n",
       "      <td>3.52</td>\n",
       "      <td>2.90</td>\n",
       "    </tr>\n",
       "    <tr>\n",
       "      <th>4</th>\n",
       "      <td>2016</td>\n",
       "      <td>2.740000e+09</td>\n",
       "      <td>3.30</td>\n",
       "      <td>3.94</td>\n",
       "    </tr>\n",
       "    <tr>\n",
       "      <th>5</th>\n",
       "      <td>2017</td>\n",
       "      <td>2.610000e+09</td>\n",
       "      <td>3.31</td>\n",
       "      <td>2.41</td>\n",
       "    </tr>\n",
       "    <tr>\n",
       "      <th>6</th>\n",
       "      <td>2018</td>\n",
       "      <td>2.500000e+09</td>\n",
       "      <td>3.59</td>\n",
       "      <td>2.40</td>\n",
       "    </tr>\n",
       "    <tr>\n",
       "      <th>7</th>\n",
       "      <td>2019</td>\n",
       "      <td>2.580000e+09</td>\n",
       "      <td>3.50</td>\n",
       "      <td>5.04</td>\n",
       "    </tr>\n",
       "    <tr>\n",
       "      <th>8</th>\n",
       "      <td>2020</td>\n",
       "      <td>2.280000e+09</td>\n",
       "      <td>4.64</td>\n",
       "      <td>-0.62</td>\n",
       "    </tr>\n",
       "    <tr>\n",
       "      <th>9</th>\n",
       "      <td>2021</td>\n",
       "      <td>2.550000e+09</td>\n",
       "      <td>5.47</td>\n",
       "      <td>-1.21</td>\n",
       "    </tr>\n",
       "  </tbody>\n",
       "</table>\n",
       "</div>"
      ],
      "text/plain": [
       "   Year      Quantity  Price  PDSI\n",
       "0  2012  1.880000e+09   6.92 -3.06\n",
       "1  2013  2.140000e+09   4.49  0.31\n",
       "2  2014  2.370000e+09   3.71  2.28\n",
       "3  2015  2.510000e+09   3.52  2.90\n",
       "4  2016  2.740000e+09   3.30  3.94\n",
       "5  2017  2.610000e+09   3.31  2.41\n",
       "6  2018  2.500000e+09   3.59  2.40\n",
       "7  2019  2.580000e+09   3.50  5.04\n",
       "8  2020  2.280000e+09   4.64 -0.62\n",
       "9  2021  2.550000e+09   5.47 -1.21"
      ]
     },
     "execution_count": 5,
     "metadata": {},
     "output_type": "execute_result"
    }
   ],
   "source": [
    "df"
   ]
  },
  {
   "cell_type": "markdown",
   "id": "c3cabbc5-15f7-4d7e-9a67-1d6472e181dd",
   "metadata": {},
   "source": [
    "## 1) Calculate Gross Product using the Quantity and Price for each year"
   ]
  },
  {
   "cell_type": "code",
   "execution_count": 6,
   "id": "dda80966-930b-41f9-a871-56f89d95050f",
   "metadata": {},
   "outputs": [],
   "source": [
    "#Gross product defined by (quantity * price)/2\n",
    "gp = (df['Quantity']*df['Price'])/2"
   ]
  },
  {
   "cell_type": "code",
   "execution_count": 7,
   "id": "d93fda2b-3d2b-4466-b8fd-441e9d77fa0b",
   "metadata": {},
   "outputs": [
    {
     "data": {
      "text/plain": [
       "0    6.504800e+09\n",
       "1    4.804300e+09\n",
       "2    4.396350e+09\n",
       "3    4.417600e+09\n",
       "4    4.521000e+09\n",
       "5    4.319550e+09\n",
       "6    4.487500e+09\n",
       "7    4.515000e+09\n",
       "8    5.289600e+09\n",
       "9    6.974250e+09\n",
       "dtype: float64"
      ]
     },
     "execution_count": 7,
     "metadata": {},
     "output_type": "execute_result"
    }
   ],
   "source": [
    "gp"
   ]
  },
  {
   "cell_type": "markdown",
   "id": "e63d31ed-e700-465e-8e1b-4c2bc131cced",
   "metadata": {},
   "source": [
    "## 2) Create scatterplot of equilibrium quantity versus price"
   ]
  },
  {
   "cell_type": "code",
   "execution_count": 8,
   "id": "a54e421d-e124-42b5-b0dd-30685a8f3868",
   "metadata": {},
   "outputs": [
    {
     "data": {
      "text/plain": [
       "Text(0.5, 1.0, 'Equilibrium Quantity versus Price')"
      ]
     },
     "execution_count": 8,
     "metadata": {},
     "output_type": "execute_result"
    },
    {
     "data": {
      "image/png": "[encoded data removed]",
      "text/plain": [
       "<Figure size 432x288 with 1 Axes>"
      ]
     },
     "metadata": {},
     "output_type": "display_data"
    }
   ],
   "source": [
    "sb.set()\n",
    "fig = plt.figure()\n",
    "ax = plt.subplot(1,1,1)\n",
    "ax.scatter(df['Quantity'],df['Price'], color = 'purple')\n",
    "ax.set_xlabel('Quantity (bu)')\n",
    "ax.set_ylabel('Price ($/bu)')\n",
    "ax.set_title('Equilibrium Quantity versus Price', fontsize = 14)"
   ]
  },
  {
   "cell_type": "markdown",
   "id": "d6ee2c23-5725-4e5c-b67a-f5007ec26935",
   "metadata": {},
   "source": [
    "## 3) Using your scatterplot, illustrate how the equilibrium quantity and price may be affected by changes in the supply curve due to (a) more favorable and (b) less favorable growing conditions for corn, assuming the demand curve for corn is fixed"
   ]
  },
  {
   "cell_type": "markdown",
   "id": "824e4ec8-e5cc-44b3-b40c-6fdf77243d51",
   "metadata": {},
   "source": [
    "##### Assuming that the demand curve is fixed, the equilibrium quantity will increase when there is a more favorable growing season. This will decrease when there is a less favorable growing season."
   ]
  },
  {
   "cell_type": "markdown",
   "id": "c4d04cfc-a0bb-402b-b4fb-cf21163d8aca",
   "metadata": {},
   "source": [
    "##### The equilibrium price will increase when there is a less favorable growing season. It will decrease when there is a more favorable growing season."
   ]
  },
  {
   "cell_type": "markdown",
   "id": "71436f2c-eb25-43ae-96a7-b4a0111205b1",
   "metadata": {},
   "source": [
    "## 4) On August 10, 2020, a powerful derecho crossed Iowa. Before the derecho hit, it was projected that Iowa would harvest about 2.75 * 10^9 bushels of corn in 2020. As you can see in the table, only 2.28 * 10^9 bushels of corn were harvested, primarily because of crop losses due to the derecho. Estimate the change in gross product due to this derecho."
   ]
  },
  {
   "cell_type": "markdown",
   "id": "a8f4f571-533d-486c-ae69-a36e05d6a5fb",
   "metadata": {},
   "source": [
    "##### When interpolating for the projected quantity of 2.75 * 10^9 bushels, it is best to compare for the price in 2016, where a similar number of bushels (2.74*10^9) calculated a price of $3.30\n",
    "\n",
    "##### Given the information given above, the estimated price for 2020 without the derecho will be $3.40"
   ]
  },
  {
   "cell_type": "markdown",
   "id": "c3043486-3a8e-42ca-b85a-3cf9e9fc91e2",
   "metadata": {},
   "source": [
    "#### The loss in gross product due to this derecho is as follows:"
   ]
  },
  {
   "cell_type": "code",
   "execution_count": 17,
   "id": "a52125f5-605a-4449-8614-84673cd58080",
   "metadata": {},
   "outputs": [
    {
     "name": "stdout",
     "output_type": "stream",
     "text": [
      "The change in gross product is 614600000.0 dollars.\n"
     ]
    }
   ],
   "source": [
    "gp_diff = ((df['Quantity'][8] * df['Price'][8])/2)-((2.75e9*3.40)/2)\n",
    "print(f'The change in gross product is {gp_diff} dollars.')"
   ]
  },
  {
   "cell_type": "markdown",
   "id": "19e8f54f-bb04-4060-983e-d956c43471a6",
   "metadata": {},
   "source": [
    "#### My projection predicts a gain in gross product after the derecho happened. The hypothetical price I chose is consistent with the price of 2016, although it is nudged ten cents higher in order to account for the change in PDSI. The reason that the derecho resulted in a net gain in gross product is because the increase in the price of each bushel of corn outweighed the decrease in supply. This is reflected in the calculation of gross product."
   ]
  },
  {
   "cell_type": "markdown",
   "id": "01c08c18-e3c4-4e8e-bbbe-0bacfa6172de",
   "metadata": {},
   "source": [
    "# __________________________________________________\n"
   ]
  },
  {
   "cell_type": "markdown",
   "id": "0c433030-175a-4118-8e3e-c901c57d644c",
   "metadata": {},
   "source": [
    "### I have now been hired by an agricultural consulting firm (hooray!) to analyze whether dry or wet conditions have an effect on the equilibrium quantity and price of corn."
   ]
  },
  {
   "cell_type": "markdown",
   "id": "9ef39b12-242e-42f2-b88e-68142e3f704b",
   "metadata": {},
   "source": [
    "## 5) Use the PDSI index, along with your equilibrium quantities and prices, to assess how (a) wet conditions (PDSI > 2.00) and (b) dry conditions (PDSI < -2.00) affect the equilibrium quantity and price of corn, compared to normal conditions (-2.00 < PDSI < 2,00). Remember that you are looking at real data, and real data is often messy."
   ]
  },
  {
   "cell_type": "code",
   "execution_count": 12,
   "id": "8f8a7c54-0e61-471d-a699-6fe28bf6aca8",
   "metadata": {},
   "outputs": [
    {
     "data": {
      "text/plain": [
       "Text(0.5, 1.0, 'Equilibrium Quantity versus PDSI')"
      ]
     },
     "execution_count": 12,
     "metadata": {},
     "output_type": "execute_result"
    },
    {
     "data": {
      "image/png": "[encoded data removed]",
      "text/plain": [
       "<Figure size 432x288 with 1 Axes>"
      ]
     },
     "metadata": {},
     "output_type": "display_data"
    }
   ],
   "source": [
    "#Equilibrium quantity versus PDSI\n",
    "sb.set()\n",
    "fig = plt.figure()\n",
    "ax = plt.subplot(1,1,1)\n",
    "ax.scatter(df['Quantity'],df['PDSI'], color = 'orange')\n",
    "ax.set_xlabel('Quantity (bu)')\n",
    "ax.set_ylabel('PDSI')\n",
    "ax.set_title('Equilibrium Quantity versus PDSI', fontsize = 14)"
   ]
  },
  {
   "cell_type": "code",
   "execution_count": 13,
   "id": "85a9a1f7-236b-48d7-a61f-62962d3359b4",
   "metadata": {},
   "outputs": [
    {
     "data": {
      "text/plain": [
       "Text(0.5, 1.0, 'Equilibrium Price versus PDSI')"
      ]
     },
     "execution_count": 13,
     "metadata": {},
     "output_type": "execute_result"
    },
    {
     "data": {
      "image/png": "[encoded data removed]",
      "text/plain": [
       "<Figure size 432x288 with 1 Axes>"
      ]
     },
     "metadata": {},
     "output_type": "display_data"
    }
   ],
   "source": [
    "#Equilbrium Price versus PDSI\n",
    "sb.set()\n",
    "fig = plt.figure()\n",
    "ax = plt.subplot(1,1,1)\n",
    "ax.scatter(df['Price'],df['PDSI'], color = 'blue')\n",
    "ax.set_xlabel('Price ($/bu)')\n",
    "ax.set_ylabel('PDSI')\n",
    "ax.set_title('Equilibrium Price versus PDSI', fontsize = 14)"
   ]
  },
  {
   "cell_type": "markdown",
   "id": "1fb20b90-83a4-41f4-931b-d5aabbed07fd",
   "metadata": {},
   "source": [
    "#### The PDSI affects the equilibrium quantities and prices.\n",
    "#### During wet conditions, the equilibrium quantity of corn generally is high. During dry conditions, the equilibrium quantity of corn is generally low.\n",
    "#### During wet conditions, the price of a bushel is generally low. During dry conditions, the price of a bushel is generally much higher.\n",
    "\n",
    "##### They should give me a raise"
   ]
  },
  {
   "cell_type": "markdown",
   "id": "4304bfe5-726c-4252-931c-839e70bf3f54",
   "metadata": {},
   "source": [
    "## 6) The firm asks you to predict the effects of a very dry (PDSI < -5.00) growing season on the equilibrium quantity and price of corn. Would you be comfortable doing so, based on the data that you have? If not, what would you need to do in order to increase your confidence in your prediction?"
   ]
  },
  {
   "cell_type": "markdown",
   "id": "f2e5232b-ca27-407a-9c52-09b3b8f8a1fa",
   "metadata": {},
   "source": [
    "#### With the information that has been provided to me, I would not feel confident enough to estimate the price of corn with a PDSI below -5.00. The first reason for this is because I do not believe using a single number to define the precipitation over the course of the year is a good indication of how dry the environment actually is. Additionally, the severity of the drought can vary across the state of Iowa, which may have different land uses for particular areas. I also believe that there may be an exponential relationship between the PDSI and equilibrium quantity and price of corn, although there are too few data points for me to confirm this. With more data points, and inflation-adjusted data, I believe I would have the confidence to make an informed decision about this. The uncertainty is simply too high as it is."
   ]
  },
  {
   "cell_type": "code",
   "execution_count": null,
   "id": "029a4c76-a493-4bb3-88b6-b39b09cd748b",
   "metadata": {},
   "outputs": [],
   "source": []
  }
 ],
 "metadata": {
  "kernelspec": {
   "display_name": "Python 3 August 2021 Environment",
   "language": "python",
   "name": "aug21"
  },
  "language_info": {
   "codemirror_mode": {
    "name": "ipython",
    "version": 3
   },
   "file_extension": ".py",
   "mimetype": "text/x-python",
   "name": "python",
   "nbconvert_exporter": "python",
   "pygments_lexer": "ipython3",
   "version": "3.8.10"
  }
 },
 "nbformat": 4,
 "nbformat_minor": 5
}
